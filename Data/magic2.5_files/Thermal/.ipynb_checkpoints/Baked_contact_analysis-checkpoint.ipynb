{
 "cells": [
  {
   "cell_type": "code",
   "execution_count": 1,
   "metadata": {
    "collapsed": false
   },
   "outputs": [
    {
     "name": "stderr",
     "output_type": "stream",
     "text": [
      "/Users/lukefairchild765/anaconda/envs/python2/lib/python2.7/site-packages/pandas/computation/__init__.py:19: UserWarning: The installed version of numexpr 2.4.4 is not supported in pandas and will be not be used\n",
      "\n",
      "  UserWarning)\n",
      "/Users/lukefairchild765/anaconda/envs/python2/lib/python2.7/site-packages/matplotlib/font_manager.py:273: UserWarning: Matplotlib is building the font cache using fc-list. This may take a moment.\n",
      "  warnings.warn('Matplotlib is building the font cache using fc-list. This may take a moment.')\n"
     ]
    }
   ],
   "source": [
    "import pandas as pd\n",
    "import numpy as np\n",
    "import matplotlib.pyplot as plt\n",
    "%matplotlib inline"
   ]
  },
  {
   "cell_type": "code",
   "execution_count": 2,
   "metadata": {
    "collapsed": false
   },
   "outputs": [],
   "source": [
    "def fit_step(folders):\n",
    "    all_fits = pd.DataFrame(columns=['er_sample_name', 'measurement_step_max', 'specimen_comp_name'])\n",
    "    for name in folders:\n",
    "        DeI2 = pd.read_csv('./'+name+'/pmag_specimens.txt', header=1, \n",
    "                           sep='\\t', usecols=('er_sample_name', \n",
    "                                              'measurement_step_max', \n",
    "                                              'specimen_comp_name'))\n",
    "        DeI2_ht = DeI2.loc[DeI2['specimen_comp_name']=='HT']\n",
    "        DeI2_ht.reset_index(inplace=True, drop=True)\n",
    "        for i in range(len(DeI2_ht)):\n",
    "            DeI2_ht.measurement_step_max[i] = DeI2_ht.measurement_step_max[i] - 273\n",
    "        all_fits = all_fits.append(DeI2_ht)\n",
    "    return all_fits"
   ]
  },
  {
   "cell_type": "code",
   "execution_count": 3,
   "metadata": {
    "collapsed": false
   },
   "outputs": [
    {
     "name": "stderr",
     "output_type": "stream",
     "text": [
      "/Users/lukefairchild765/anaconda/envs/python2/lib/python2.7/site-packages/ipykernel/__main__.py:11: SettingWithCopyWarning: \n",
      "A value is trying to be set on a copy of a slice from a DataFrame\n",
      "\n",
      "See the caveats in the documentation: http://pandas.pydata.org/pandas-docs/stable/indexing.html#indexing-view-versus-copy\n",
      "/Users/lukefairchild765/anaconda/envs/python2/lib/python2.7/site-packages/ipykernel/__main__.py:4: SettingWithCopyWarning: \n",
      "A value is trying to be set on a copy of a slice from a DataFrame\n",
      "\n",
      "See the caveats in the documentation: http://pandas.pydata.org/pandas-docs/stable/indexing.html#indexing-view-versus-copy\n"
     ]
    }
   ],
   "source": [
    "folders = !ls\n",
    "folders.remove('Host_rock')\n",
    "folders.remove('Untitled.ipynb')\n",
    "breccia = fit_step(folders)"
   ]
  },
  {
   "cell_type": "code",
   "execution_count": 66,
   "metadata": {
    "collapsed": false
   },
   "outputs": [],
   "source": [
    "breccia.reset_index(inplace=True,drop=True)\n",
    "#breccia.to_csv('../../baked_contact_analysis/breccia_max_temp.csv')"
   ]
  },
  {
   "cell_type": "code",
   "execution_count": 73,
   "metadata": {
    "collapsed": false
   },
   "outputs": [
    {
     "data": {
      "text/html": [
       "<div>\n",
       "<table border=\"1\" class=\"dataframe\">\n",
       "  <thead>\n",
       "    <tr style=\"text-align: right;\">\n",
       "      <th></th>\n",
       "      <th>sample</th>\n",
       "      <th>max_temp</th>\n",
       "      <th>distance_m</th>\n",
       "      <th>dis_norm</th>\n",
       "    </tr>\n",
       "  </thead>\n",
       "  <tbody>\n",
       "    <tr>\n",
       "      <th>0</th>\n",
       "      <td>PI24-16a</td>\n",
       "      <td>375</td>\n",
       "      <td>0.86</td>\n",
       "      <td>0.330769</td>\n",
       "    </tr>\n",
       "    <tr>\n",
       "      <th>1</th>\n",
       "      <td>PI24-17a</td>\n",
       "      <td>400</td>\n",
       "      <td>1.13</td>\n",
       "      <td>0.434615</td>\n",
       "    </tr>\n",
       "    <tr>\n",
       "      <th>2</th>\n",
       "      <td>PI24-18a</td>\n",
       "      <td>500</td>\n",
       "      <td>0.56</td>\n",
       "      <td>0.215385</td>\n",
       "    </tr>\n",
       "    <tr>\n",
       "      <th>3</th>\n",
       "      <td>PI24-20a</td>\n",
       "      <td>570</td>\n",
       "      <td>0.06</td>\n",
       "      <td>0.023077</td>\n",
       "    </tr>\n",
       "    <tr>\n",
       "      <th>4</th>\n",
       "      <td>PI24-21a</td>\n",
       "      <td>560</td>\n",
       "      <td>0.50</td>\n",
       "      <td>0.192308</td>\n",
       "    </tr>\n",
       "  </tbody>\n",
       "</table>\n",
       "</div>"
      ],
      "text/plain": [
       "     sample  max_temp  distance_m  dis_norm\n",
       "0  PI24-16a       375        0.86  0.330769\n",
       "1  PI24-17a       400        1.13  0.434615\n",
       "2  PI24-18a       500        0.56  0.215385\n",
       "3  PI24-20a       570        0.06  0.023077\n",
       "4  PI24-21a       560        0.50  0.192308"
      ]
     },
     "execution_count": 73,
     "metadata": {},
     "output_type": "execute_result"
    }
   ],
   "source": [
    "host = pd.read_csv('../../baked_contact_analysis/baked_contact.csv')\n",
    "host = host.fillna(0.1)\n",
    "host.head()"
   ]
  },
  {
   "cell_type": "code",
   "execution_count": 78,
   "metadata": {
    "collapsed": false
   },
   "outputs": [
    {
     "data": {
      "image/png": "[encoded data removed]",
      "text/plain": [
       "<matplotlib.figure.Figure at 0x119f672d0>"
      ]
     },
     "metadata": {},
     "output_type": "display_data"
    }
   ],
   "source": [
    "plt.figure(figsize=(8,6))\n",
    "\n",
    "data_plt_x = []\n",
    "data_plt_y = []\n",
    "for i in range(len(breccia)):\n",
    "    data_plt_x.append(-0.5)\n",
    "    data_plt_y.append(breccia.measurement_step_max[i])\n",
    "    if i==0:\n",
    "        plt.scatter(-0.5,breccia.measurement_step_max[i],c='r',label=\"breccia\")\n",
    "    else:\n",
    "        plt.scatter(-0.5,breccia.measurement_step_max[i],c='r')\n",
    "breccia_mean_temp = np.mean(data_plt_y)\n",
    "breccia_std = np.std(data_plt_y)\n",
    "plt.errorbar(-0.3,breccia_mean_temp, yerr=breccia_std,label='breccia mean')\n",
    "\n",
    "data_plt_x = []\n",
    "data_plt_y = []\n",
    "\n",
    "for i in range(len(host)):\n",
    "    data_plt_x.append(host.distance_m[i])\n",
    "    data_plt_y.append(host.max_temp[i])\n",
    "    if i==0:\n",
    "        plt.scatter(host.distance_m[i],host.max_temp[i],c='b',label=\"host\")\n",
    "    else:\n",
    "        plt.scatter(host.distance_m[i],host.max_temp[i],c='b')\n",
    "x = np.array(data_plt_x)\n",
    "y = np.array(data_plt_y)\n",
    "nbins = 3\n",
    "\n",
    "n, _ = np.histogram(x, bins=nbins)\n",
    "sy, _ = np.histogram(x, bins=nbins, weights=y)\n",
    "sy2, _ = np.histogram(x, bins=nbins, weights=y*y)\n",
    "mean = sy / n\n",
    "std = np.sqrt(sy2/n - mean*mean)\n",
    "\n",
    "#plt.scatter(x, y)\n",
    "plt.errorbar((_[1:] + _[:-1])/2, mean, yerr=std, fmt='r-',label='host mean')\n",
    "plt.legend(loc=(0.85,0.85))\n",
    "plt.show()"
   ]
  },
  {
   "cell_type": "code",
   "execution_count": null,
   "metadata": {
    "collapsed": true
   },
   "outputs": [],
   "source": []
  }
 ],
 "metadata": {
  "hide_input": false,
  "kernelspec": {
   "display_name": "Python 2",
   "language": "python",
   "name": "python2"
  },
  "language_info": {
   "codemirror_mode": {
    "name": "ipython",
    "version": 2
   },
   "file_extension": ".py",
   "mimetype": "text/x-python",
   "name": "python",
   "nbconvert_exporter": "python",
   "pygments_lexer": "ipython2",
   "version": "2.7.11"
  }
 },
 "nbformat": 4,
 "nbformat_minor": 0
}
